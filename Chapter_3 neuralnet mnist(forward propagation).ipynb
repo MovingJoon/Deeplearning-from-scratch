{
  "nbformat": 4,
  "nbformat_minor": 0,
  "metadata": {
    "colab": {
      "name": "Snippets: Importing libraries",
      "provenance": [],
      "collapsed_sections": [],
      "include_colab_link": true
    },
    "kernelspec": {
      "display_name": "Python 3",
      "name": "python3"
    }
  },
  "cells": [
    {
      "cell_type": "markdown",
      "metadata": {
        "id": "view-in-github",
        "colab_type": "text"
      },
      "source": [
        "<a href=\"https://colab.research.google.com/github/MovingJoon/Deeplearning-from-scratch/blob/master/Chapter_3%20neuralnet%20mnist(forward%20propagation).ipynb\" target=\"_parent\"><img src=\"https://colab.research.google.com/assets/colab-badge.svg\" alt=\"Open In Colab\"/></a>"
      ]
    },
    {
      "cell_type": "code",
      "metadata": {
        "id": "jq-I9Bhmxccy",
        "outputId": "5cd2bbc5-b9c8-4484-ec57-8a6a7495ed32",
        "colab": {
          "base_uri": "https://localhost:8080/",
          "height": 35
        }
      },
      "source": [
        "from google.colab import drive\n",
        "drive.mount('/content/drive')"
      ],
      "execution_count": 98,
      "outputs": [
        {
          "output_type": "stream",
          "text": [
            "Drive already mounted at /content/drive; to attempt to forcibly remount, call drive.mount(\"/content/drive\", force_remount=True).\n"
          ],
          "name": "stdout"
        }
      ]
    },
    {
      "cell_type": "code",
      "metadata": {
        "id": "P3tA3VZzxnDE"
      },
      "source": [
        "import numpy as np\n",
        "from PIL import Image\n",
        "import sys, os\n",
        "sys.path.append('/content/drive/My Drive/Colab Notebooks')\n",
        "from dataset.mnist import load_mnist\n",
        "import pickle\n"
      ],
      "execution_count": 99,
      "outputs": []
    },
    {
      "cell_type": "code",
      "metadata": {
        "id": "ZS8Ar0C_z6pM"
      },
      "source": [
        "#이미지 변환\n",
        "def img_show(img):\n",
        "  pil_img = Image.fromarray(np.uint8(img))\n",
        "\n",
        "#데이터 로드 \n",
        "def get_data():\n",
        "  (x_train, t_train),(x_test,t_test) = \\\n",
        "    load_mnist(normalize=True, flatten=True, one_hot_label=False)\n",
        "  return x_test, t_test\n",
        "\n",
        "#가중치, 편향 불러오기 \n",
        "def init_network():\n",
        "  with open('/content/drive/My Drive/Colab Notebooks/dataset/sample_weight.pkl', 'rb') as f:\n",
        "      network=pickle.load(f)\n",
        "  return network\n",
        "\n",
        "#시그모이드 함수  \n",
        "def sigmoid(x):\n",
        "  return 1/(1+np.exp(-x))\n",
        "\n",
        "#소프트맥스 함수 \n",
        "def softmax(x):\n",
        "  c=np.max(x)\n",
        "  return np.exp(x-c) / np.sum(np.exp(x-c))\n",
        "\n",
        "#은닉층 \n",
        "def predict(network, x):\n",
        "  w1,w2,w3 = network['W1'],network['W2'],network['W3']\n",
        "  b1,b2,b3 = network['b1'],network['b2'],network['b3']\n",
        "\n",
        "  a1=np.dot(x,w1)+b1\n",
        "  z1=sigmoid(a1)\n",
        "  a2=np.dot(z1,w2)+b2\n",
        "  z2=sigmoid(a2)\n",
        "  a3=np.dot(z2,w3)+b3\n",
        "  y=softmax(a3)\n",
        "\n",
        "  return y "
      ],
      "execution_count": 100,
      "outputs": []
    },
    {
      "cell_type": "code",
      "metadata": {
        "id": "ZgS5fH4sxrlg",
        "outputId": "c97e0ee2-1b39-456a-bc4f-2d36969aeafc",
        "colab": {
          "base_uri": "https://localhost:8080/",
          "height": 52
        }
      },
      "source": [
        "x, t = get_data()\n",
        "network = init_network()\n",
        "accuracy_cnt = 0\n",
        "for i in range(len(x)):\n",
        "    y = predict(network, x[i])\n",
        "    p= np.argmax(y) \n",
        "    if p == t[i]:\n",
        "        accuracy_cnt += 1\n",
        "\n",
        "print(\"Accuracy:\" + str(float(accuracy_cnt) / len(x)))\n",
        "\n"
      ],
      "execution_count": 109,
      "outputs": [
        {
          "output_type": "stream",
          "text": [
            "(10000,)\n",
            "Accuracy:0.9352\n"
          ],
          "name": "stdout"
        }
      ]
    },
    {
      "cell_type": "code",
      "metadata": {
        "id": "1iVuaVxW1V_0",
        "outputId": "e4848bc4-9ccb-4117-9577-d26147c313e5",
        "colab": {
          "base_uri": "https://localhost:8080/",
          "height": 35
        }
      },
      "source": [
        "#배치처리 \n",
        "x,t =get_data()\n",
        "network = init_network()\n",
        "\n",
        "batch_size=100\n",
        "accuracy_count = 0\n",
        "\n",
        "for i in range(0, len(x), batch_size) :\n",
        "  x_batch=x[i:i+batch_size]\n",
        "  y_batch=predict(network,x_batch)\n",
        "  p=np.argmax(y_batch , axis=1)\n",
        "  accuracy_count=accuracy_count+np.sum(p==t[i:i+batch_size])\n",
        "\n",
        "print(\"Accuracy:\" + str(float(accuracy_cnt) / len(x)))"
      ],
      "execution_count": 112,
      "outputs": [
        {
          "output_type": "stream",
          "text": [
            "Accuracy:0.9352\n"
          ],
          "name": "stdout"
        }
      ]
    },
    {
      "cell_type": "markdown",
      "metadata": {
        "id": "xi5x1n16_hDP"
      },
      "source": [
        ""
      ]
    },
    {
      "cell_type": "code",
      "metadata": {
        "id": "BmFJ1aZe2vzj"
      },
      "source": [
        ""
      ],
      "execution_count": 83,
      "outputs": []
    }
  ]
}