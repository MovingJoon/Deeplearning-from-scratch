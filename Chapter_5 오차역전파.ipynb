{
  "nbformat": 4,
  "nbformat_minor": 0,
  "metadata": {
    "colab": {
      "name": "Colaboratory에 오신 것을 환영합니다",
      "provenance": [],
      "collapsed_sections": [],
      "toc_visible": true,
      "include_colab_link": true
    },
    "kernelspec": {
      "display_name": "Python 3",
      "name": "python3"
    }
  },
  "cells": [
    {
      "cell_type": "markdown",
      "metadata": {
        "id": "view-in-github",
        "colab_type": "text"
      },
      "source": [
        "<a href=\"https://colab.research.google.com/github/MovingJoon/Deeplearning-from-scratch/blob/master/Chapter_5%20%EC%98%A4%EC%B0%A8%EC%97%AD%EC%A0%84%ED%8C%8C.ipynb\" target=\"_parent\"><img src=\"https://colab.research.google.com/assets/colab-badge.svg\" alt=\"Open In Colab\"/></a>"
      ]
    },
    {
      "cell_type": "code",
      "metadata": {
        "id": "7TGSJX-dOsos"
      },
      "source": [
        "class MulLayer:\r\n",
        "    def __init__(self):\r\n",
        "        self.x=None\r\n",
        "        self.y=None\r\n",
        "\r\n",
        "    def forward(self,x,y):\r\n",
        "        self.x=x\r\n",
        "        self.y=y\r\n",
        "        out=x*y\r\n",
        "\r\n",
        "        return out\r\n",
        "\r\n",
        "    def backward(self,dout):\r\n",
        "        dx = dout * self.y\r\n",
        "        dy = dout * self.x\r\n",
        "\r\n",
        "        return dx, dy"
      ],
      "execution_count": 1,
      "outputs": []
    },
    {
      "cell_type": "code",
      "metadata": {
        "id": "K7UnU_OQOtYY"
      },
      "source": [
        "class Relu:\r\n",
        "    def __int__(self):\r\n",
        "        self.mask=None\r\n",
        "\r\n",
        "    def forward(self,x):\r\n",
        "        self.mask = (x<=0)\r\n",
        "        out=x.copy()\r\n",
        "        out[self.mask] = 0"
      ],
      "execution_count": 2,
      "outputs": []
    },
    {
      "cell_type": "code",
      "metadata": {
        "id": "o_Qi5OqDOvT3",
        "outputId": "2b18a170-af5e-44c1-c1a5-21dd9cb0376e",
        "colab": {
          "base_uri": "https://localhost:8080/"
        }
      },
      "source": [
        "#Chain rule\r\n",
        "apple=100\r\n",
        "apple_num=2\r\n",
        "tax=1.1\r\n",
        "\r\n",
        "#layer\r\n",
        "mul_apple_layer=MulLayer()\r\n",
        "mul_tax_layer=MulLayer()\r\n",
        "\r\n",
        "#forward\r\n",
        "apple_price=mul_apple_layer.forward(apple,apple_num)\r\n",
        "price = mul_tax_layer.forward(apple_price,tax)\r\n",
        "\r\n",
        "#backward\r\n",
        "dprice=1\r\n",
        "dapples_price, dtax = mul_tax_layer.backward(dprice)\r\n",
        "dapple_price,dapple_number=mul_apple_layer.backward(dapples_price)\r\n",
        "\r\n",
        "print('dapples_price=', dapples_price,'dtax=',dtax, 'dapple_price=',dapple_price, 'dapple_number=',round(dapple_number))"
      ],
      "execution_count": 3,
      "outputs": [
        {
          "output_type": "stream",
          "text": [
            "dapples_price= 1.1 dtax= 200 dapple_price= 2.2 dapple_number= 110\n"
          ],
          "name": "stdout"
        }
      ]
    },
    {
      "cell_type": "code",
      "metadata": {
        "id": "hVQdTsheOxT2",
        "outputId": "357aa0d9-9434-446e-d8e6-f4512527b4bb",
        "colab": {
          "base_uri": "https://localhost:8080/",
          "height": 380
        }
      },
      "source": [
        "import numpy as np\r\n",
        "from functions import*\r\n",
        "class Relu:\r\n",
        "    def __init__(self):\r\n",
        "        self.mask=None\r\n",
        "        self.mask2=None\r\n",
        "    def forward(self,x):\r\n",
        "        self.mask = (x<=0) #boolean\r\n",
        "        out = x.copy()\r\n",
        "        out[self.mask] = 0 #false -> 0\r\n",
        "\r\n",
        "        return out\r\n",
        "\r\n",
        "    def backword(self,dout):\r\n",
        "        self.mask2 = (dout>0)\r\n",
        "        dout[self.mask2]= 1\r\n",
        "        dx=dout\r\n",
        "\r\n",
        "        return dx"
      ],
      "execution_count": 4,
      "outputs": [
        {
          "output_type": "error",
          "ename": "ModuleNotFoundError",
          "evalue": "ignored",
          "traceback": [
            "\u001b[0;31m---------------------------------------------------------------------------\u001b[0m",
            "\u001b[0;31mModuleNotFoundError\u001b[0m                       Traceback (most recent call last)",
            "\u001b[0;32m<ipython-input-4-da37bb7aed11>\u001b[0m in \u001b[0;36m<module>\u001b[0;34m()\u001b[0m\n\u001b[1;32m      1\u001b[0m \u001b[0;32mimport\u001b[0m \u001b[0mnumpy\u001b[0m \u001b[0;32mas\u001b[0m \u001b[0mnp\u001b[0m\u001b[0;34m\u001b[0m\u001b[0;34m\u001b[0m\u001b[0m\n\u001b[0;32m----> 2\u001b[0;31m \u001b[0;32mfrom\u001b[0m \u001b[0mfunctions\u001b[0m \u001b[0;32mimport\u001b[0m\u001b[0;34m*\u001b[0m\u001b[0;34m\u001b[0m\u001b[0;34m\u001b[0m\u001b[0m\n\u001b[0m\u001b[1;32m      3\u001b[0m \u001b[0;32mclass\u001b[0m \u001b[0mRelu\u001b[0m\u001b[0;34m:\u001b[0m\u001b[0;34m\u001b[0m\u001b[0;34m\u001b[0m\u001b[0m\n\u001b[1;32m      4\u001b[0m     \u001b[0;32mdef\u001b[0m \u001b[0m__init__\u001b[0m\u001b[0;34m(\u001b[0m\u001b[0mself\u001b[0m\u001b[0;34m)\u001b[0m\u001b[0;34m:\u001b[0m\u001b[0;34m\u001b[0m\u001b[0;34m\u001b[0m\u001b[0m\n\u001b[1;32m      5\u001b[0m         \u001b[0mself\u001b[0m\u001b[0;34m.\u001b[0m\u001b[0mmask\u001b[0m\u001b[0;34m=\u001b[0m\u001b[0;32mNone\u001b[0m\u001b[0;34m\u001b[0m\u001b[0;34m\u001b[0m\u001b[0m\n",
            "\u001b[0;31mModuleNotFoundError\u001b[0m: No module named 'functions'",
            "",
            "\u001b[0;31m---------------------------------------------------------------------------\u001b[0;32m\nNOTE: If your import is failing due to a missing package, you can\nmanually install dependencies using either !pip or !apt.\n\nTo view examples of installing some common dependencies, click the\n\"Open Examples\" button below.\n\u001b[0;31m---------------------------------------------------------------------------\u001b[0m\n"
          ]
        }
      ]
    },
    {
      "cell_type": "code",
      "metadata": {
        "id": "lzEPNbp4O35e"
      },
      "source": [
        "class sigmoid:\r\n",
        "    def __init__(self):\r\n",
        "        self.out = None\r\n",
        "\r\n",
        "    def forward(self,x):\r\n",
        "        out = 1/(1+np.exe(-x))\r\n",
        "        self.out = out\r\n",
        "\r\n",
        "        return out\r\n",
        "\r\n",
        "    def backward(self,dout):\r\n",
        "        dx = dout * (1.0 - self.out) * self.out\r\n",
        "\r\n",
        "        return dx\r\n",
        "\r\n",
        "class Affine:\r\n",
        "    def __init__(self,W,b):\r\n",
        "        self.W = W\r\n",
        "        self.b =b\r\n",
        "        self.x = None\r\n",
        "        self.dw = None\r\n",
        "        self.db =None\r\n",
        "\r\n",
        "    def forward(self,x):\r\n",
        "        self.x= x\r\n",
        "        out = np.dot(x,self.W)+self.b\r\n",
        "\r\n",
        "        return out\r\n",
        "\r\n",
        "    def backward(self, dout):\r\n",
        "        dx= np.dot(dout,self.W.T)\r\n",
        "        self.dw = np.dot(dout, self.x.T)\r\n",
        "        self.db = np.sum(dout,axis=0)\r\n",
        "\r\n",
        "        return dx\r\n",
        "        \r\n",
        "class SoftmaxWithLoss:\r\n",
        "    def __init__(self):\r\n",
        "        self.loss = None #손실\r\n",
        "        self.y = None    #소프트맥스의 출력\r\n",
        "        self.t = None    #정답레이블\r\n",
        "\r\n",
        "    def forward(self,x,t):\r\n",
        "        self.t =t\r\n",
        "        self.y = softmax(x)\r\n",
        "        self.loss = cross_entropy_error(self.y,self.t) #손실함수\r\n",
        "        return self.loss\r\n",
        "\r\n",
        "    def backward(self, dout=1):\r\n",
        "        batch_size = self.t.shape[0]                   #배치사이즈\r\n",
        "        dx = (self.y - self.t) / batch_size\r\n",
        "\r\n",
        "        return dx\r\n"
      ],
      "execution_count": null,
      "outputs": []
    },
    {
      "cell_type": "code",
      "metadata": {
        "id": "Ol1sv9S7PIq_"
      },
      "source": [
        "import numpy as np\r\n",
        "from layers import *\r\n",
        "from gradient import numerical_gradient\r\n",
        "from collections import OrderedDict\r\n",
        "\r\n",
        "\r\n",
        "class TwolayerNet:\r\n",
        "    def __init__(self, input_size,hidden_size ,output_size, weight_init_std=0.01):\r\n",
        "\r\n",
        "        #가중치 초기화\r\n",
        "        self.parmas = {}\r\n",
        "        self.parmas['W1'] = weight_init_std * np.random.randn(input_size,output_size)\r\n",
        "        self.parmas['W2'] = weight_init_std * np.random.randn(hidden_size,output_size)\r\n",
        "        self.parmas['b1'] = np.zeros(hidden_size)\r\n",
        "        self.parmas['b2'] = np.zeors(output_size)\r\n",
        "\r\n",
        "        #계층 만들기\r\n",
        "        self.layers =OrderedDict()\r\n",
        "        self.layers['Affine1'] = Affine(self.parmas['W1'],self.parmas['b1'])\r\n",
        "        self.layers['Relu1'] = Relu()\r\n",
        "        self.layers['Affine2'] = Affine(self.parmas['W2'],self.parmas['b2'])\r\n",
        "\r\n",
        "        self.lastLayer = SoftmaxWithLoss()\r\n",
        "\r\n",
        "   #순전파\r\n",
        "    def predict(self,x):\r\n",
        "        for layer in self.layers.values():\r\n",
        "            x=layer.forward(x)\r\n",
        "\r\n",
        "            return x\r\n",
        "\r\n",
        "    def accuracy(self,x,t):\r\n",
        "        y=self.predict(x)\r\n",
        "        y=np.argmax(y,axis=1)\r\n",
        "        if t.ndim!=1 : t = np.argmax(t,axis=1)\r\n",
        "\r\n",
        "        accuracy = np.sum(y == t) / float(x.shape[0])\r\n",
        "\r\n",
        "        return accuracy\r\n",
        "\r\n",
        "    def gradient(self,x,t):\r\n",
        "        #순전파\r\n",
        "        self.loss(x,t)\r\n",
        "\r\n",
        "        #역전파\r\n",
        "        dout =1\r\n",
        "        dout = self.lastLayer.backward(dout)\r\n",
        "\r\n",
        "        layers = list(self.layers.values())\r\n",
        "        layers.reverse()\r\n",
        "        for layer in layers:\r\n",
        "            dout = layer.backward(dout)\r\n",
        "\r\n",
        "        grads = {}\r\n",
        "        grads['W1'] = self.layers['Affine1'].dW"
      ],
      "execution_count": null,
      "outputs": []
    }
  ]
}