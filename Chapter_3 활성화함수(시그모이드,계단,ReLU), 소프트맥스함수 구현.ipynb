{
  "nbformat": 4,
  "nbformat_minor": 0,
  "metadata": {
    "colab": {
      "name": "Untitled4.ipynb",
      "provenance": [],
      "authorship_tag": "ABX9TyMy2+YvwJfXhMTGtTvd7SmR",
      "include_colab_link": true
    },
    "kernelspec": {
      "name": "python3",
      "display_name": "Python 3"
    }
  },
  "cells": [
    {
      "cell_type": "markdown",
      "metadata": {
        "id": "view-in-github",
        "colab_type": "text"
      },
      "source": [
        "<a href=\"https://colab.research.google.com/github/MovingJoon/Deeplearning-from-scratch/blob/master/Chapter_3%20%ED%99%9C%EC%84%B1%ED%99%94%ED%95%A8%EC%88%98(%EC%8B%9C%EA%B7%B8%EB%AA%A8%EC%9D%B4%EB%93%9C%2C%EA%B3%84%EB%8B%A8%2CReLU)%2C%20%EC%86%8C%ED%94%84%ED%8A%B8%EB%A7%A5%EC%8A%A4%ED%95%A8%EC%88%98%20%EA%B5%AC%ED%98%84.ipynb\" target=\"_parent\"><img src=\"https://colab.research.google.com/assets/colab-badge.svg\" alt=\"Open In Colab\"/></a>"
      ]
    },
    {
      "cell_type": "code",
      "metadata": {
        "id": "-mJg11lmgJwZ"
      },
      "source": [
        "import numpy as np\n",
        "import matplotlib.pyplot as plt\n",
        "    "
      ],
      "execution_count": 10,
      "outputs": []
    },
    {
      "cell_type": "code",
      "metadata": {
        "id": "JhDMJ2N-f_rC"
      },
      "source": [
        "##활성화 함수\n",
        "#시그모이드 함수 \n",
        "def sigmoid(x):\n",
        "  return 1/(1+np.exp(-x))\n",
        "\n",
        "#계단함수 \n",
        "def step_function(x):\n",
        "  y=x>0\n",
        "  return y.astype(np.int)\n",
        "\n",
        "#Relu함수 \n",
        "def Relu(x):\n",
        "  return np.maximum(0,x)"
      ],
      "execution_count": 18,
      "outputs": []
    },
    {
      "cell_type": "code",
      "metadata": {
        "id": "5NJXb1NXgOUP",
        "outputId": "fcf77330-25ba-422e-9c28-8221f94478f4",
        "colab": {
          "base_uri": "https://localhost:8080/",
          "height": 283
        }
      },
      "source": [
        "#계단함수 \n",
        "x=np.arange(-6.0,6.0,0.1)\n",
        "y=step_function(x)\n",
        "plt.plot(x,y)\n",
        "plt.ylim(-0.1,1.1)"
      ],
      "execution_count": 24,
      "outputs": [
        {
          "output_type": "execute_result",
          "data": {
            "text/plain": [
              "(-0.1, 1.1)"
            ]
          },
          "metadata": {
            "tags": []
          },
          "execution_count": 24
        },
        {
          "output_type": "display_data",
          "data": {
            "image/png": "[encoded data removed]",
            "text/plain": [
              "<Figure size 432x288 with 1 Axes>"
            ]
          },
          "metadata": {
            "tags": [],
            "needs_background": "light"
          }
        }
      ]
    },
    {
      "cell_type": "code",
      "metadata": {
        "id": "_N5tN3uxhPUb",
        "outputId": "683d01dc-69c1-4ef6-bd4a-39a93c6a3ac4",
        "colab": {
          "base_uri": "https://localhost:8080/",
          "height": 283
        }
      },
      "source": [
        "#시그모이드함수 \n",
        "x=np.arange(-6.0,6.0,0.1)\n",
        "y=sigmoid(x)\n",
        "plt.plot(x,y)"
      ],
      "execution_count": 25,
      "outputs": [
        {
          "output_type": "execute_result",
          "data": {
            "text/plain": [
              "[<matplotlib.lines.Line2D at 0x7fe2b033cf98>]"
            ]
          },
          "metadata": {
            "tags": []
          },
          "execution_count": 25
        },
        {
          "output_type": "display_data",
          "data": {
            "image/png": "[encoded data removed]",
            "text/plain": [
              "<Figure size 432x288 with 1 Axes>"
            ]
          },
          "metadata": {
            "tags": [],
            "needs_background": "light"
          }
        }
      ]
    },
    {
      "cell_type": "code",
      "metadata": {
        "id": "YITpMmethyRx",
        "outputId": "812ec1fa-0679-4e83-c126-f665bdce43f4",
        "colab": {
          "base_uri": "https://localhost:8080/",
          "height": 283
        }
      },
      "source": [
        "#Relu함수\n",
        "x=np.arange(-6.0,6.0,0.1)\n",
        "y=Relu(x)\n",
        "plt.plot(x,y)"
      ],
      "execution_count": 26,
      "outputs": [
        {
          "output_type": "execute_result",
          "data": {
            "text/plain": [
              "[<matplotlib.lines.Line2D at 0x7fe2b0340780>]"
            ]
          },
          "metadata": {
            "tags": []
          },
          "execution_count": 26
        },
        {
          "output_type": "display_data",
          "data": {
            "image/png": "[encoded data removed]",
            "text/plain": [
              "<Figure size 432x288 with 1 Axes>"
            ]
          },
          "metadata": {
            "tags": [],
            "needs_background": "light"
          }
        }
      ]
    },
    {
      "cell_type": "code",
      "metadata": {
        "id": "5zkqxvITiGqw"
      },
      "source": [
        "#소프트맥스 함수 \n",
        "def softmax(x):\n",
        "  c=np.max(x)\n",
        "  exp_a = np.exp(x-c)\n",
        "  exp_a_sum=np.sum(exp_a)\n",
        "  y=exp_a/exp_a_sum\n",
        "  \n",
        "  return y"
      ],
      "execution_count": 23,
      "outputs": []
    },
    {
      "cell_type": "code",
      "metadata": {
        "id": "4uWeInOwknme"
      },
      "source": [
        ""
      ],
      "execution_count": null,
      "outputs": []
    }
  ]
}